{
  "nbformat": 4,
  "nbformat_minor": 0,
  "metadata": {
    "colab": {
      "name": "BRESENHAM CIRCLE DRAWING ALGORITHM.ipynb",
      "provenance": [],
      "authorship_tag": "ABX9TyMmbVAlge2vCW8tT3XjFgaN",
      "include_colab_link": true
    },
    "kernelspec": {
      "name": "python3",
      "display_name": "Python 3"
    },
    "language_info": {
      "name": "python"
    },
    "accelerator": "TPU"
  },
  "cells": [
    {
      "cell_type": "markdown",
      "metadata": {
        "id": "view-in-github",
        "colab_type": "text"
      },
      "source": [
        "<a href=\"https://colab.research.google.com/github/Prateek-8168/Computer-Graphics/blob/main/BRESENHAM_CIRCLE_DRAWING_ALGORITHM.ipynb\" target=\"_parent\"><img src=\"https://colab.research.google.com/assets/colab-badge.svg\" alt=\"Open In Colab\"/></a>"
      ]
    },
    {
      "cell_type": "code",
      "metadata": {
        "id": "8DQzjs2-7kmV",
        "colab": {
          "base_uri": "https://localhost:8080/",
          "height": 265
        },
        "outputId": "3b266cee-c430-4250-d86b-cf32265e6433"
      },
      "source": [
        "import matplotlib.pyplot as plt\n",
        "\n",
        "\n",
        "def drawCircle(xc, yc, x, y):\n",
        "  plt.plot(xc+x, yc+y, 'bo')\n",
        "  plt.plot(xc-x, yc+y, 'bo')\n",
        "  plt.plot(xc+x, yc-y, 'bo')\n",
        "  plt.plot(xc-x, yc-y, 'bo')\n",
        "  plt.plot(xc+y, yc+x, 'bo')\n",
        "  plt.plot(xc-y, yc+x, 'bo')\n",
        "  plt.plot(xc+y, yc-x, 'bo')\n",
        "  plt.plot(xc-y, yc-x, 'bo')\n",
        "\n",
        "xc = 50\n",
        "yc = 50\n",
        "r = 30\n",
        "x = 0\n",
        "y = r\n",
        "d = 3 - 2 * r\n",
        "\n",
        "drawCircle(xc, yc, x, y)\n",
        "while y>=x:\n",
        "  x=x+1\n",
        "  if d>=0:\n",
        "    y=y-1;\n",
        "    d = d + 4*(x-y) +10\n",
        "  \n",
        "  else:\n",
        "    d = d+4*x+6\n",
        "  \n",
        "  drawCircle(xc, yc, x, y)"
      ],
      "execution_count": 4,
      "outputs": [
        {
          "output_type": "display_data",
          "data": {
            "image/png": "[encoded data removed]",
            "text/plain": [
              "<Figure size 432x288 with 1 Axes>"
            ]
          },
          "metadata": {
            "needs_background": "light"
          }
        }
      ]
    }
  ]
}